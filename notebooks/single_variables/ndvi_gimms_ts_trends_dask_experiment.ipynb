{
 "cells": [
  {
   "cell_type": "markdown",
   "metadata": {},
   "source": [
    "# Theil-Sen slopes for NDVI with dask"
   ]
  },
  {
   "cell_type": "markdown",
   "metadata": {},
   "source": [
    "## Overview"
   ]
  },
  {
   "cell_type": "markdown",
   "metadata": {},
   "source": [
    "- **Key ideas:** \n",
    "    - Learning how to use [dask](https://docs.dask.org/en/latest/) with [xarray](http://xarray.pydata.org/en/stable/) for climate data (vegetation, actually).\n",
    "    - This notebook is a dask experiment for better performance when computing Theil-Sen slopes for GIMMS NDVI scaled data in South America.\n",
    "- **References:**\n",
    "    - [Dask's best practices](https://docs.dask.org/en/latest/best-practices.html).\n",
    "    - [Dask's setup](https://docs.dask.org/en/latest/setup.html).\n",
    "    - [Dask' scheduling](https://docs.dask.org/en/latest/scheduling.html).\n",
    "    - [Ask Ubuntu: Cores vs Threads: How many threads should I run on this machine?](https://askubuntu.com/questions/668538/cores-vs-threads-how-many-threads-should-i-run-on-this-machine)\n",
    "    - [How to efficiently parallelize Dask Dataframe computation on a Single Machine](https://medium.com/analytics-vidhya/how-to-efficiently-parallelize-dask-dataframe-computation-on-a-single-machine-1f10b5b02177)."
   ]
  },
  {
   "cell_type": "markdown",
   "metadata": {},
   "source": [
    "## Initial setups"
   ]
  },
  {
   "cell_type": "code",
   "execution_count": 1,
   "metadata": {},
   "outputs": [],
   "source": [
    "# Load packages.\n",
    "import sys\n",
    "import time\n",
    "import warnings\n",
    "\n",
    "import xarray as xr\n",
    "import dask as da\n",
    "\n",
    "from dask.distributed import LocalCluster, Client, progress\n",
    "\n",
    "# Better visualization.\n",
    "xr.set_options(display_style=\"text\")\n",
    "\n",
    "# Do not print warnings.\n",
    "warnings.filterwarnings(\"ignore\")\n",
    "\n",
    "%matplotlib inline"
   ]
  },
  {
   "cell_type": "code",
   "execution_count": 2,
   "metadata": {},
   "outputs": [
    {
     "name": "stdout",
     "output_type": "stream",
     "text": [
      ">>> Versions:\n",
      "* xarray: 0.16.0\n",
      "* dask: 2.25.0\n",
      "\n",
      ">>> Computer:\n",
      "* Hostname: n007\n",
      "* User: sandroal\n",
      "* Directory: /work/sandroal/notebooks/single_variables\n",
      "* Date: Sun Jan 17 21:19:21 BRST 2021\n",
      "* CPUs: 40\n",
      "CPU times: user 16 ms, sys: 32 ms, total: 48 ms\n",
      "Wall time: 620 ms\n"
     ]
    }
   ],
   "source": [
    "%%time\n",
    "\n",
    "print(\">>> Versions:\")\n",
    "print(\"* xarray:\", xr.__version__)\n",
    "print(\"* dask:\", da.__version__)\n",
    "print(\"\\n>>> Computer:\")\n",
    "!echo \"* Hostname: ${HOSTNAME}\"\n",
    "!echo \"* User: ${USER}\"\n",
    "!echo \"* Directory: $(pwd)\"\n",
    "!echo \"* Date: $(date)\"\n",
    "!echo \"* CPUs: $(nproc)\""
   ]
  },
  {
   "cell_type": "code",
   "execution_count": 3,
   "metadata": {},
   "outputs": [
    {
     "name": "stdout",
     "output_type": "stream",
     "text": [
      "Architecture:          x86_64\n",
      "CPU op-mode(s):        32-bit, 64-bit\n",
      "Byte Order:            Little Endian\n",
      "CPU(s):                40\n",
      "On-line CPU(s) list:   0-39\n",
      "Thread(s) per core:    2\n",
      "Core(s) per socket:    10\n",
      "Socket(s):             2\n",
      "NUMA node(s):          2\n",
      "Vendor ID:             GenuineIntel\n",
      "CPU family:            6\n",
      "Model:                 62\n",
      "Stepping:              4\n",
      "CPU MHz:               1200.000\n",
      "BogoMIPS:              4988.39\n",
      "Virtualization:        VT-x\n",
      "L1d cache:             32K\n",
      "L1i cache:             32K\n",
      "L2 cache:              256K\n",
      "L3 cache:              25600K\n",
      "NUMA node0 CPU(s):     0-9,20-29\n",
      "NUMA node1 CPU(s):     10-19,30-39\n"
     ]
    }
   ],
   "source": [
    "# Display information about the CPU architecture.\n",
    "!lscpu"
   ]
  },
  {
   "cell_type": "code",
   "execution_count": 4,
   "metadata": {},
   "outputs": [],
   "source": [
    "# My repository.\n",
    "repository = \"/work/sandroal/cdlearn/\"\n",
    "\n",
    "# Include once my repository in the path for searching libraries.\n",
    "if repository not in sys.path:\n",
    "    sys.path.append(repository)\n",
    "    \n",
    "# Import my package.\n",
    "import cdlearn"
   ]
  },
  {
   "cell_type": "code",
   "execution_count": 5,
   "metadata": {},
   "outputs": [
    {
     "name": "stdout",
     "output_type": "stream",
     "text": [
      "CPU times: user 684 ms, sys: 104 ms, total: 788 ms\n",
      "Wall time: 2.37 s\n"
     ]
    }
   ],
   "source": [
    "%%time\n",
    "\n",
    "# Best performance (9 min 14.8s):\n",
    "# n_workers = 8\n",
    "# threads_per_worker = 5\n",
    "\n",
    "# Setup cluster.\n",
    "params = {\n",
    "    \"n_workers\": 8,           \n",
    "    \"threads_per_worker\": 5,\n",
    "    \"processes\": True\n",
    "}\n",
    "cluster = LocalCluster(**params)\n",
    "client = Client(cluster)"
   ]
  },
  {
   "cell_type": "code",
   "execution_count": 6,
   "metadata": {},
   "outputs": [
    {
     "name": "stdout",
     "output_type": "stream",
     "text": [
      "LocalCluster('tcp://127.0.0.1:54249', workers=8, threads=40, memory=67.46 GB)\n"
     ]
    }
   ],
   "source": [
    "print(cluster)"
   ]
  },
  {
   "cell_type": "code",
   "execution_count": 7,
   "metadata": {},
   "outputs": [
    {
     "data": {
      "text/html": [
       "<table style=\"border: 2px solid white;\">\n",
       "<tr>\n",
       "<td style=\"vertical-align: top; border: 0px solid white\">\n",
       "<h3 style=\"text-align: left;\">Client</h3>\n",
       "<ul style=\"text-align: left; list-style: none; margin: 0; padding: 0;\">\n",
       "  <li><b>Scheduler: </b>tcp://127.0.0.1:54249</li>\n",
       "  <li><b>Dashboard: </b><a href='http://127.0.0.1:8787/status' target='_blank'>http://127.0.0.1:8787/status</a></li>\n",
       "</ul>\n",
       "</td>\n",
       "<td style=\"vertical-align: top; border: 0px solid white\">\n",
       "<h3 style=\"text-align: left;\">Cluster</h3>\n",
       "<ul style=\"text-align: left; list-style:none; margin: 0; padding: 0;\">\n",
       "  <li><b>Workers: </b>8</li>\n",
       "  <li><b>Cores: </b>40</li>\n",
       "  <li><b>Memory: </b>67.46 GB</li>\n",
       "</ul>\n",
       "</td>\n",
       "</tr>\n",
       "</table>"
      ],
      "text/plain": [
       "<Client: 'tcp://127.0.0.1:54249' processes=8 threads=40, memory=67.46 GB>"
      ]
     },
     "execution_count": 7,
     "metadata": {},
     "output_type": "execute_result"
    }
   ],
   "source": [
    "client"
   ]
  },
  {
   "cell_type": "code",
   "execution_count": 8,
   "metadata": {},
   "outputs": [],
   "source": [
    "# Shuffled trends data files will be located here.\n",
    "OUTPUT_FOLDER = \"/work/sandroal/data_sets/GIMMS/shuffled_trends/\"\n",
    "\n",
    "# Data files location.\n",
    "MAIN_FOLDER = \"/work/sandroal/data_sets/GIMMS/\""
   ]
  },
  {
   "cell_type": "markdown",
   "metadata": {},
   "source": [
    "## Load scaled NDVI data"
   ]
  },
  {
   "cell_type": "code",
   "execution_count": 9,
   "metadata": {},
   "outputs": [
    {
     "name": "stdout",
     "output_type": "stream",
     "text": [
      "<xarray.Dataset>\n",
      "Dimensions:    (lat: 912, lon: 666, time: 828)\n",
      "Coordinates:\n",
      "    land_mask  (lat, lon) int8 0 0 0 0 0 0 0 0 0 0 0 0 ... 0 0 0 0 0 0 0 0 0 0 0\n",
      "  * lon        (lon) float64 -89.96 -89.88 -89.79 ... -33.88 -32.46 -32.38\n",
      "  * lat        (lat) float64 -55.96 -55.88 -55.79 -55.71 ... 19.79 19.88 19.96\n",
      "  * time       (time) datetime64[ns] 1981-07-01 1981-07-15 ... 2015-12-15\n",
      "Data variables:\n",
      "    ndvi       (time, lat, lon) float32 nan nan nan nan nan ... nan nan nan nan\n",
      "CPU times: user 5.44 s, sys: 3.02 s, total: 8.47 s\n",
      "Wall time: 12.1 s\n"
     ]
    }
   ],
   "source": [
    "%%time\n",
    "\n",
    "# Into memory.\n",
    "DS_NDVI_SCALED = xr.open_dataset(\n",
    "    filename_or_obj=MAIN_FOLDER + \"ppdata_ndvi_scaled.nc\"\n",
    ").load()\n",
    "\n",
    "# Only land pixels.\n",
    "DS_NDVI_SCALED = DS_NDVI_SCALED.where(\n",
    "    DS_NDVI_SCALED.land_mask==True, drop=True\n",
    ")\n",
    "\n",
    "# Show it.\n",
    "print(DS_NDVI_SCALED)"
   ]
  },
  {
   "cell_type": "code",
   "execution_count": 10,
   "metadata": {},
   "outputs": [
    {
     "name": "stdout",
     "output_type": "stream",
     "text": [
      ">>> Size in memory: 2.012308944 GB\n"
     ]
    }
   ],
   "source": [
    "print(\">>> Size in memory:\", DS_NDVI_SCALED.nbytes / 1e9, \"GB\")"
   ]
  },
  {
   "cell_type": "code",
   "execution_count": 11,
   "metadata": {},
   "outputs": [
    {
     "name": "stdout",
     "output_type": "stream",
     "text": [
      "CPU times: user 3.86 s, sys: 72 ms, total: 3.93 s\n",
      "Wall time: 3.69 s\n"
     ]
    }
   ],
   "source": [
    "%%time\n",
    "\n",
    "# Coerce all arrays in this dataset into dask arrays with the given chunks.\n",
    "DS_NDVI_SCALED_CHUNKED = DS_NDVI_SCALED.chunk({\"lat\": 128, \"lon\": 100})"
   ]
  },
  {
   "cell_type": "code",
   "execution_count": 12,
   "metadata": {},
   "outputs": [
    {
     "data": {
      "text/html": [
       "<table>\n",
       "<tr>\n",
       "<td>\n",
       "<table>\n",
       "  <thead>\n",
       "    <tr><td> </td><th> Array </th><th> Chunk </th></tr>\n",
       "  </thead>\n",
       "  <tbody>\n",
       "    <tr><th> Bytes </th><td> 2.01 GB </td> <td> 42.39 MB </td></tr>\n",
       "    <tr><th> Shape </th><td> (828, 912, 666) </td> <td> (828, 128, 100) </td></tr>\n",
       "    <tr><th> Count </th><td> 57 Tasks </td><td> 56 Chunks </td></tr>\n",
       "    <tr><th> Type </th><td> float32 </td><td> numpy.ndarray </td></tr>\n",
       "  </tbody>\n",
       "</table>\n",
       "</td>\n",
       "<td>\n",
       "<svg width=\"211\" height=\"234\" style=\"stroke:rgb(0,0,0);stroke-width:1\" >\n",
       "\n",
       "  <!-- Horizontal lines -->\n",
       "  <line x1=\"10\" y1=\"0\" x2=\"74\" y2=\"64\" style=\"stroke-width:2\" />\n",
       "  <line x1=\"10\" y1=\"16\" x2=\"74\" y2=\"80\" />\n",
       "  <line x1=\"10\" y1=\"33\" x2=\"74\" y2=\"97\" />\n",
       "  <line x1=\"10\" y1=\"50\" x2=\"74\" y2=\"114\" />\n",
       "  <line x1=\"10\" y1=\"67\" x2=\"74\" y2=\"131\" />\n",
       "  <line x1=\"10\" y1=\"84\" x2=\"74\" y2=\"148\" />\n",
       "  <line x1=\"10\" y1=\"101\" x2=\"74\" y2=\"165\" />\n",
       "  <line x1=\"10\" y1=\"117\" x2=\"74\" y2=\"181\" />\n",
       "  <line x1=\"10\" y1=\"120\" x2=\"74\" y2=\"184\" style=\"stroke-width:2\" />\n",
       "\n",
       "  <!-- Vertical lines -->\n",
       "  <line x1=\"10\" y1=\"0\" x2=\"10\" y2=\"120\" style=\"stroke-width:2\" />\n",
       "  <line x1=\"74\" y1=\"64\" x2=\"74\" y2=\"184\" style=\"stroke-width:2\" />\n",
       "\n",
       "  <!-- Colored Rectangle -->\n",
       "  <polygon points=\"10.000000,0.000000 74.086687,64.086687 74.086687,184.086687 10.000000,120.000000\" style=\"fill:#ECB172A0;stroke-width:0\"/>\n",
       "\n",
       "  <!-- Horizontal lines -->\n",
       "  <line x1=\"10\" y1=\"0\" x2=\"97\" y2=\"0\" style=\"stroke-width:2\" />\n",
       "  <line x1=\"74\" y1=\"64\" x2=\"161\" y2=\"64\" style=\"stroke-width:2\" />\n",
       "\n",
       "  <!-- Vertical lines -->\n",
       "  <line x1=\"10\" y1=\"0\" x2=\"74\" y2=\"64\" style=\"stroke-width:2\" />\n",
       "  <line x1=\"23\" y1=\"0\" x2=\"87\" y2=\"64\" />\n",
       "  <line x1=\"36\" y1=\"0\" x2=\"100\" y2=\"64\" />\n",
       "  <line x1=\"49\" y1=\"0\" x2=\"113\" y2=\"64\" />\n",
       "  <line x1=\"62\" y1=\"0\" x2=\"126\" y2=\"64\" />\n",
       "  <line x1=\"75\" y1=\"0\" x2=\"139\" y2=\"64\" />\n",
       "  <line x1=\"88\" y1=\"0\" x2=\"153\" y2=\"64\" />\n",
       "  <line x1=\"97\" y1=\"0\" x2=\"161\" y2=\"64\" style=\"stroke-width:2\" />\n",
       "\n",
       "  <!-- Colored Rectangle -->\n",
       "  <polygon points=\"10.000000,0.000000 97.631579,0.000000 161.718266,64.086687 74.086687,64.086687\" style=\"fill:#ECB172A0;stroke-width:0\"/>\n",
       "\n",
       "  <!-- Horizontal lines -->\n",
       "  <line x1=\"74\" y1=\"64\" x2=\"161\" y2=\"64\" style=\"stroke-width:2\" />\n",
       "  <line x1=\"74\" y1=\"80\" x2=\"161\" y2=\"80\" />\n",
       "  <line x1=\"74\" y1=\"97\" x2=\"161\" y2=\"97\" />\n",
       "  <line x1=\"74\" y1=\"114\" x2=\"161\" y2=\"114\" />\n",
       "  <line x1=\"74\" y1=\"131\" x2=\"161\" y2=\"131\" />\n",
       "  <line x1=\"74\" y1=\"148\" x2=\"161\" y2=\"148\" />\n",
       "  <line x1=\"74\" y1=\"165\" x2=\"161\" y2=\"165\" />\n",
       "  <line x1=\"74\" y1=\"181\" x2=\"161\" y2=\"181\" />\n",
       "  <line x1=\"74\" y1=\"184\" x2=\"161\" y2=\"184\" style=\"stroke-width:2\" />\n",
       "\n",
       "  <!-- Vertical lines -->\n",
       "  <line x1=\"74\" y1=\"64\" x2=\"74\" y2=\"184\" style=\"stroke-width:2\" />\n",
       "  <line x1=\"87\" y1=\"64\" x2=\"87\" y2=\"184\" />\n",
       "  <line x1=\"100\" y1=\"64\" x2=\"100\" y2=\"184\" />\n",
       "  <line x1=\"113\" y1=\"64\" x2=\"113\" y2=\"184\" />\n",
       "  <line x1=\"126\" y1=\"64\" x2=\"126\" y2=\"184\" />\n",
       "  <line x1=\"139\" y1=\"64\" x2=\"139\" y2=\"184\" />\n",
       "  <line x1=\"153\" y1=\"64\" x2=\"153\" y2=\"184\" />\n",
       "  <line x1=\"161\" y1=\"64\" x2=\"161\" y2=\"184\" style=\"stroke-width:2\" />\n",
       "\n",
       "  <!-- Colored Rectangle -->\n",
       "  <polygon points=\"74.086687,64.086687 161.718266,64.086687 161.718266,184.086687 74.086687,184.086687\" style=\"fill:#ECB172A0;stroke-width:0\"/>\n",
       "\n",
       "  <!-- Text -->\n",
       "  <text x=\"117.902477\" y=\"204.086687\" font-size=\"1.0rem\" font-weight=\"100\" text-anchor=\"middle\" >666</text>\n",
       "  <text x=\"181.718266\" y=\"124.086687\" font-size=\"1.0rem\" font-weight=\"100\" text-anchor=\"middle\" transform=\"rotate(-90,181.718266,124.086687)\">912</text>\n",
       "  <text x=\"32.043344\" y=\"172.043344\" font-size=\"1.0rem\" font-weight=\"100\" text-anchor=\"middle\" transform=\"rotate(45,32.043344,172.043344)\">828</text>\n",
       "</svg>\n",
       "</td>\n",
       "</tr>\n",
       "</table>"
      ],
      "text/plain": [
       "dask.array<xarray-ndvi, shape=(828, 912, 666), dtype=float32, chunksize=(828, 128, 100), chunktype=numpy.ndarray>"
      ]
     },
     "execution_count": 12,
     "metadata": {},
     "output_type": "execute_result"
    }
   ],
   "source": [
    "# The array's data as a dask or numpy array.\n",
    "DS_NDVI_SCALED_CHUNKED.ndvi.data"
   ]
  },
  {
   "cell_type": "markdown",
   "metadata": {},
   "source": [
    "## Performance test"
   ]
  },
  {
   "cell_type": "code",
   "execution_count": 13,
   "metadata": {},
   "outputs": [
    {
     "name": "stdout",
     "output_type": "stream",
     "text": [
      "<xarray.Dataset>\n",
      "Dimensions:      (lat: 912, lon: 666)\n",
      "Coordinates:\n",
      "    land_mask    (lat, lon) int8 dask.array<chunksize=(128, 100), meta=np.ndarray>\n",
      "  * lon          (lon) float64 -89.96 -89.88 -89.79 ... -33.88 -32.46 -32.38\n",
      "  * lat          (lat) float64 -55.96 -55.88 -55.79 -55.71 ... 19.79 19.88 19.96\n",
      "Data variables:\n",
      "    slopes       (lat, lon) float64 dask.array<chunksize=(128, 100), meta=np.ndarray>\n",
      "    intercept    (lat, lon) float64 dask.array<chunksize=(128, 100), meta=np.ndarray>\n",
      "    lower_slope  (lat, lon) float64 dask.array<chunksize=(128, 100), meta=np.ndarray>\n",
      "    upper_slope  (lat, lon) float64 dask.array<chunksize=(128, 100), meta=np.ndarray>\n",
      "CPU times: user 16 ms, sys: 4 ms, total: 20 ms\n",
      "Wall time: 20.4 ms\n"
     ]
    }
   ],
   "source": [
    "%%time\n",
    "\n",
    "# Lazy calculation.\n",
    "DS_TREND_TS = cdlearn.statistics.theil_slopes_boosted(\n",
    "    data_set=DS_NDVI_SCALED_CHUNKED, \n",
    "    var_code=\"ndvi\", \n",
    "    dim=\"time\"\n",
    ")\n",
    "\n",
    "# Show it.\n",
    "print(DS_TREND_TS)"
   ]
  },
  {
   "cell_type": "code",
   "execution_count": 14,
   "metadata": {},
   "outputs": [
    {
     "data": {
      "application/vnd.jupyter.widget-view+json": {
       "model_id": "35785eccb6a94e339a262437266c00e1",
       "version_major": 2,
       "version_minor": 0
      },
      "text/plain": [
       "VBox()"
      ]
     },
     "metadata": {},
     "output_type": "display_data"
    }
   ],
   "source": [
    "# Trigger computation, keeping data as dask arrays.\n",
    "DS_TREND_TS = DS_TREND_TS.persist()\n",
    "    \n",
    "# Watch progress.\n",
    "progress(DS_TREND_TS)"
   ]
  },
  {
   "cell_type": "code",
   "execution_count": 15,
   "metadata": {},
   "outputs": [],
   "source": [
    "# End cluster instance.\n",
    "client.close()\n",
    "cluster.close()"
   ]
  }
 ],
 "metadata": {
  "kernelspec": {
   "display_name": "Python 3",
   "language": "python",
   "name": "python3"
  },
  "language_info": {
   "codemirror_mode": {
    "name": "ipython",
    "version": 3
   },
   "file_extension": ".py",
   "mimetype": "text/x-python",
   "name": "python",
   "nbconvert_exporter": "python",
   "pygments_lexer": "ipython3",
   "version": "3.7.9"
  }
 },
 "nbformat": 4,
 "nbformat_minor": 4
}
